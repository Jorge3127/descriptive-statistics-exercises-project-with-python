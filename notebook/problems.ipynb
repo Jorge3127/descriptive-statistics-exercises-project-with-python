{
    "cells": [
        {
            "cell_type": "markdown",
            "id": "ac622319",
            "metadata": {},
            "source": [
                "# Descriptive statistics problems"
            ]
        },
        {
            "cell_type": "markdown",
            "id": "5e0ab0d5",
            "metadata": {},
            "source": [
                "### Exercise 1\n",
                "\n",
                "We will use NumPy to obtain information to describe statistically.\n",
                "\n",
                "- Generate an array of 100 elements following a normal distribution.\n",
                "- Generate an array of 100 elements following a chi-square distribution with 3 degrees of freedom.\n",
                "- Calculate the main metrics and statistical measures that best describe the two vectors."
            ]
        },
        {
            "cell_type": "code",
            "execution_count": 6,
            "id": "34720ab6",
            "metadata": {},
            "outputs": [
                {
                    "name": "stdout",
                    "output_type": "stream",
                    "text": [
                        "[-0.95476517 -0.01869686 -1.39916998  0.11816313  0.0765446  -1.17312949\n",
                        " -0.98044572  0.0519161   0.93248887 -0.53273614 -0.33990574  0.66673197\n",
                        " -0.57963533 -1.50655734  0.23604923 -1.25473936 -2.01125743 -1.35316147\n",
                        " -1.47269029 -2.00235496 -0.07453667 -0.87679094  0.23759913  1.94616452\n",
                        " -0.53116152  1.01243096  0.39907633 -0.71796615 -0.32997674 -0.74610385\n",
                        "  0.28623129 -0.37102326 -1.54583248  0.55845808  1.09670282  0.9890194\n",
                        " -1.80851594 -1.01188313 -0.41600662  1.38789939  0.57932281  0.97896191\n",
                        " -0.12330447  0.42796934 -1.64263992  0.66447736  0.20226975  0.44919881\n",
                        "  1.01439483  1.24501479 -0.80660817  0.50491096 -0.38244688 -1.73922733\n",
                        "  0.44638496 -1.4350665  -0.1109192  -0.13290897 -0.89766826  0.6208876\n",
                        "  0.84378944 -0.68429963  1.1968596  -0.1377796  -1.01057208  1.15083873\n",
                        "  0.67026271 -1.16063019  1.16200175  0.56747349 -0.60296288  0.06464072\n",
                        " -0.06476361 -1.48959267  0.46012685 -0.6934915   0.95945735  2.01917549\n",
                        " -1.68314061  1.29523401 -0.15214546 -1.55219371  1.83102603 -1.90201264\n",
                        "  1.06292095  2.46745196  1.6426558  -1.92232263 -1.5138031  -0.84932346\n",
                        " -1.46506321  0.7644347  -1.19571454 -0.6534339  -0.14683773  0.75163156\n",
                        "  0.16301453 -0.520496   -3.43208684  1.4238451 ]\n",
                        "La media de los datos de la distirbución normal es: -0.1648638853489607\n",
                        "La mediana de los datos de la distirbución normal es: -0.12810672266166054\n",
                        "La moda de los datos de la distirbución normal es: -0.9547651662254243\n",
                        "El rango de los datos de la distirbución normal es: 5.8995387970302104\n",
                        "La varianza de los datos de la distirbución normal es: 1.2205122795993841\n",
                        "La ddesviación standar de los datos de la distirbución normal es: 1.1047679754588218\n",
                        " \n",
                        "------------------------------------------------------------------------\n",
                        " \n",
                        "[ 0.8210491   0.87140681  8.80631746  0.06614966  3.96092785  3.17604396\n",
                        "  3.96369868  0.66961803  4.71568275  1.15347852  4.17757264  2.70092193\n",
                        "  2.25396063  2.74291392 10.60220704  2.2036723  11.97760017  6.9740572\n",
                        "  1.05924566  0.69134017  2.44110716  5.00347038  3.49761092  4.82132487\n",
                        "  2.12143253  5.1627674   3.7952434   0.5721754   2.24226412  5.16358237\n",
                        "  7.14522817  0.47268654  3.79556737  4.81891198  2.75466324  2.16292345\n",
                        "  0.72459217  5.48682341  2.23192578  1.23263734  4.21669047  3.59206984\n",
                        "  2.69436953  4.78720972  0.16101235  2.93476277  4.88213802  2.88937669\n",
                        "  1.45364482  8.26926818  4.71694886  4.94952573  8.42230101  4.01850636\n",
                        "  1.92288835  9.57079551  0.37432427  2.62342115  3.06093075  0.5843577\n",
                        "  0.47257255  0.14614683  6.23032578  5.51698788  3.76531992  4.07718764\n",
                        "  3.35111662  4.29656843  2.28744496  0.25701505  0.40275962  6.52149556\n",
                        "  1.84578687  0.90955101  0.58089835  2.00039283  6.62035305  3.8434518\n",
                        "  2.93254378  0.50408139  1.96199564  5.11593774  1.10321385  2.39205886\n",
                        "  0.74077148  0.89145     0.36687519  0.90312975  1.30383479  9.83617622\n",
                        "  2.7573217   0.39707279  1.78544741  4.89516205  0.32612094  1.94742685\n",
                        "  2.89364832  1.73148875  1.93596766  1.1856779 ]\n",
                        "------------------------------------------------------------------------\n",
                        "La media de los datos de la distirbución chi cuadrado es: 3.1639212243699655\n",
                        "La media de los datos de la distirbución chi cuadrado es: 2.697645726410668\n",
                        "La media de los datos de la distirbución chi cuadrado es: 0.821049104619406\n",
                        "El rando de los datos de la distirbución chi cuadrado es: 11.9114505142843\n",
                        "La varianza de los datos de la distirbución chi cuadrado es: 6.456639249537286\n",
                        "La desviacón standar de los datos de la distirbución chi cuadrado es: 2.5409917846260908\n"
                    ]
                }
            ],
            "source": [
                "# TODO\n",
                "import numpy as np\n",
                "import statistics as stats\n",
                "array_distribucion_normal = np.random.normal(loc=0,scale=1, size=100)\n",
                "print(array_distribucion_normal)\n",
                "media = np.mean(array_distribucion_normal)\n",
                "mediana = np.median(array_distribucion_normal)\n",
                "moda = stats.mode(array_distribucion_normal)\n",
                "rango = max(array_distribucion_normal) - min(array_distribucion_normal)\n",
                "varianza_normal = stats.variance(array_distribucion_normal)\n",
                "desviacion_est_normal = stats.stdev(array_distribucion_normal)\n",
                "print(f\"La media de los datos de la distirbución normal es:\",media)\n",
                "print(f\"La mediana de los datos de la distirbución normal es:\",mediana)\n",
                "print(f\"La moda de los datos de la distirbución normal es:\",moda)\n",
                "print(f\"El rango de los datos de la distirbución normal es:\",rango)\n",
                "print(f\"La varianza de los datos de la distirbución normal es:\",varianza_normal)\n",
                "print(f\"La ddesviación standar de los datos de la distirbución normal es:\",desviacion_est_normal)\n",
                "\n",
                "\n",
                "print(\" \")\n",
                "print(\"------------------------------------------------------------------------\")\n",
                "print(\" \")\n",
                "\n",
                "array_chi_cuadrado = np.random.chisquare(df=3,size=100)\n",
                "print(array_chi_cuadrado)\n",
                "print(\"------------------------------------------------------------------------\")\n",
                "media_chi = np.mean(array_chi_cuadrado)\n",
                "mediana_chi = np.median(array_chi_cuadrado)\n",
                "moda_chi = stats.mode(array_chi_cuadrado)\n",
                "rango_chi = max(array_chi_cuadrado) - min(array_chi_cuadrado)\n",
                "varianza_chi = stats.variance(array_chi_cuadrado)\n",
                "desviacion_est_chi = stats.stdev(array_chi_cuadrado)\n",
                "\n",
                "print(f\"La media de los datos de la distirbución chi cuadrado es:\",media_chi)\n",
                "print(f\"La media de los datos de la distirbución chi cuadrado es:\",mediana_chi)\n",
                "print(f\"La media de los datos de la distirbución chi cuadrado es:\",moda_chi)\n",
                "print(f\"El rando de los datos de la distirbución chi cuadrado es:\",rango_chi)\n",
                "print(f\"La varianza de los datos de la distirbución chi cuadrado es:\",varianza_chi)\n",
                "print(f\"La desviacón standar de los datos de la distirbución chi cuadrado es:\",desviacion_est_chi)\n"
            ]
        },
        {
            "cell_type": "markdown",
            "id": "46c70c3d",
            "metadata": {},
            "source": [
                "### Exercise 2\n",
                "\n",
                "Write a Python program to calculate the standard deviation of the following data:\n",
                "\n",
                "```py\n",
                "data = [4, 2, 5, 8, 6]\n",
                "```"
            ]
        },
        {
            "cell_type": "code",
            "execution_count": 61,
            "id": "d590308e",
            "metadata": {},
            "outputs": [
                {
                    "name": "stdout",
                    "output_type": "stream",
                    "text": [
                        "EL PROMEDIO DE LOS DATOS ES: 5.0\n",
                        "LA VARIANZA ES: 4.0\n",
                        "LA DESVIACION ESTANDAR ES: 2.0\n"
                    ]
                }
            ],
            "source": [
                "# TODO\n",
                "import statistics as stats\n",
                "from scipy.stats import skew\n",
                "from scipy.stats import kurtosis\n",
                "from math import sqrt\n",
                "\n",
                "data = [4,2,5,8,6]\n",
                "\n",
                "suma = 0\n",
                "for numero in data:\n",
                "    suma = suma + numero\n",
                "promedio = suma / len(data)\n",
                "\n",
                "print(f\"EL PROMEDIO DE LOS DATOS ES:\", promedio)\n",
                "\n",
                "suma_varianza = 0\n",
                "for conteo in data:\n",
                "    diferencia = (conteo - promedio)**2\n",
                "    suma_varianza += diferencia\n",
                "   \n",
                "var = suma_varianza/len(data)\n",
                "print(f\"LA VARIANZA ES:\", var)\n",
                "\n",
                "desv_est = sqrt(var)\n",
                "print(f\"LA DESVIACION ESTANDAR ES:\",desv_est)"
            ]
        }
    ],
    "metadata": {
        "kernelspec": {
            "display_name": "Python 3",
            "language": "python",
            "name": "python3"
        },
        "language_info": {
            "codemirror_mode": {
                "name": "ipython",
                "version": 3
            },
            "file_extension": ".py",
            "mimetype": "text/x-python",
            "name": "python",
            "nbconvert_exporter": "python",
            "pygments_lexer": "ipython3",
            "version": "3.11.4"
        }
    },
    "nbformat": 4,
    "nbformat_minor": 5
}
